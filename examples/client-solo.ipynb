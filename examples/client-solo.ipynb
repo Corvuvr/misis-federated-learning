{
  "cells": [
    {
      "cell_type": "markdown",
      "metadata": {
        "id": "saDoGN4K2wtQ"
      },
      "source": [
        "# Введение\n",
        "В этом примере описан запуск локальной модели на дистрибутивах Ubuntu.\n",
        "## Установка\n",
        "Загрузите репозиторий:"
      ]
    },
    {
      "cell_type": "code",
      "execution_count": null,
      "metadata": {
        "id": "gC891ggUtf0o"
      },
      "outputs": [],
      "source": [
        "!git clone https://github.com/Corvuvr/misis-federated-learning.git"
      ]
    },
    {
      "cell_type": "markdown",
      "metadata": {
        "id": "vmIp-RQM28bk"
      },
      "source": [
        "Установите зависимости (можно через `requirements.txt`, если запуск осуществляется без GPU):"
      ]
    },
    {
      "cell_type": "code",
      "execution_count": null,
      "metadata": {
        "id": "Q4SMSbsG1w5V"
      },
      "outputs": [],
      "source": [
        "!pip install flwr==1.8.0 flask tensorflow numpy prometheus_client flwr_datasets[vision]"
      ]
    },
    {
      "cell_type": "markdown",
      "metadata": {
        "id": "CypSATI_3OIi"
      },
      "source": []
    },
    {
      "cell_type": "markdown",
      "metadata": {
        "id": "gX39gTm93d16"
      },
      "source": [
        "## Запуск"
      ]
    },
    {
      "cell_type": "code",
      "execution_count": null,
      "metadata": {
        "collapsed": true,
        "id": "MGK1dVb42FoB"
      },
      "outputs": [],
      "source": [
        "!cd misis-federated-learning && python client.py \\\n",
        "--local \\\n",
        "--epochs-per-subset=1 \\\n",
        "--data-percentage=0.2 \\\n",
        "--train-split=0.6 \\\n",
        "--total-epochs=10 \\\n",
        "--alpha=0.1"
      ]
    },
    {
      "cell_type": "markdown",
      "metadata": {
        "id": "5M2vyul23jtK"
      },
      "source": [
        "Полученные результаты лежат в `results/`. Их можно просмотреть вручную или с помощью скрипта:"
      ]
    },
    {
      "cell_type": "code",
      "execution_count": null,
      "metadata": {
        "id": "pEoMjWwj5g6Y"
      },
      "outputs": [],
      "source": [
        "from PIL import Image\n",
        "\n",
        "acc = Image.open(\"misis-federated-learning/results/client-solo-acc.png\")\n",
        "loss = Image.open(\"misis-federated-learning/results/client-solo-loss.png\")\n",
        "\n",
        "# Concat horizontal\n",
        "stack = Image.new('RGB', (acc.width + loss.width, acc.height))\n",
        "stack.paste(acc, (0, 0))\n",
        "stack.paste(loss, (acc.width, 0))\n",
        "\n",
        "# Show\n",
        "stack"
      ]
    }
  ],
  "metadata": {
    "accelerator": "GPU",
    "colab": {
      "gpuType": "T4",
      "provenance": []
    },
    "kernelspec": {
      "display_name": "Python 3",
      "name": "python3"
    },
    "language_info": {
      "name": "python"
    }
  },
  "nbformat": 4,
  "nbformat_minor": 0
}
